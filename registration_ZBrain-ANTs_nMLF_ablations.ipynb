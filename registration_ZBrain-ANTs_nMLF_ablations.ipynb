{
 "cells": [
  {
   "cell_type": "markdown",
   "metadata": {},
   "source": [
    "### Registration of zebrafish brains to a reference Z-Brain\n",
    "using [ANTs](http://stnava.github.io/ANTs/) registration tools.\n",
    "\n",
    "Zebrafish brains expressing GCaMP6f were imaged live with [Zebrascope](https://www.nature.com/nmeth/journal/v11/n9/full/nmeth.3040.html) light-sheet microscope and down-sampled (5 microns/px in XYZ) to speed up calculations.\n",
    "\n",
    "The reference Z-Brains were downloaded from [Z-Brain official page](http://engertlab.fas.harvard.edu/Z-Brain/about.html), down-sampled and converted to NRRD format using [ImageJ/FIJI](https://fiji.sc/).\n",
    "\n",
    "The code was tested on Windows 7, [Anaconda](https://docs.continuum.io/anaconda/install) Python 2.7 distribution.\n",
    "\n",
    "Unzip files  `ZBrains.zip` and `raw_brains.zip` before running the code."
   ]
  },
  {
   "cell_type": "code",
   "execution_count": 1,
   "metadata": {
    "collapsed": false
   },
   "outputs": [],
   "source": [
    "import subprocess\n",
    "import os\n",
    "import numpy as np"
   ]
  },
  {
   "cell_type": "code",
   "execution_count": 6,
   "metadata": {
    "collapsed": false
   },
   "outputs": [],
   "source": [
    "#Your working directory containing the cloned code\n",
    "parentDir = 'C:/Users/username/Documents/ZebrafishBrainRegistration_Zbrain_ANTs/'\n",
    "\n",
    "#Path to the ANTs exe-files (Windows)\n",
    "binPath = parentDir + 'ANTs_2.1.0_Windows/'\n",
    "\n",
    "#Path to down-sampled Z-brain stacks (5 um isotropic resolution)\n",
    "pathZbrain_H2B = parentDir + 'ZBrains/zbrain-H2B-RFP_6dpf_mean10fish_8bit_xyz5um.nrrd'\n",
    "pathZbrain_Cyto = parentDir + 'ZBrains/zbrain-tERK-8bit_xyz5um.nrrd'"
   ]
  },
  {
   "cell_type": "code",
   "execution_count": 7,
   "metadata": {
    "collapsed": false
   },
   "outputs": [],
   "source": [
    "# nMLF ablations, Cyto fish,\n",
    "ablationName = 'nMLF'\n",
    "h2b = False #set True if aligning (nuclear) H2B-expressing markers, False is cytosolically expressed marker\n",
    "\n",
    "rawDirList =  ['2016-10-18fish1/pre/',\\\n",
    "               '2016-10-18fish1/post/',\\\n",
    "               \n",
    "               '2016-10-18fish3/pre/',\\\n",
    "               '2016-10-18fish3/post/',\\\n",
    "               \n",
    "               '2016-10-24fish1/pre/',\\\n",
    "               '2016-10-24fish1/post/'           \n",
    "              ]\n",
    "signalType = 'Fstim' \n",
    "procDirs = []\n",
    "for dirName in rawDirList:\n",
    "    procDirs.append(parentDir + 'raw_brains/' + dirName)        "
   ]
  },
  {
   "cell_type": "markdown",
   "metadata": {},
   "source": [
    "### Align post- to pre-ablation using down-sampled Ref maps"
   ]
  },
  {
   "cell_type": "code",
   "execution_count": 10,
   "metadata": {
    "collapsed": false
   },
   "outputs": [
    {
     "name": "stdout",
     "output_type": "stream",
     "text": [
      "1 of 3\n",
      "2 of 3\n",
      "3 of 3\n"
     ]
    }
   ],
   "source": [
    "for i_exp in range(1,len(procDirs),2):\n",
    "    procDir = procDirs[i_exp]\n",
    "    print str(1+ (i_exp-1)/2) + ' of ' + str(len(procDirs)/2)  \n",
    "    os.chdir(procDir)\n",
    "    title = os.path.basename(os.path.split(os.path.split(os.path.split(procDir)[0])[0])[0])\n",
    "\n",
    "    filename_fixed = procDirs[i_exp - 1] + 'ref_xyz5um.nrrd' #pre-ablation file, fixed (target)\n",
    "    filename_movingNRRD = procDir + 'ref_xyz5um.nrrd' #post-ablation (moving)\n",
    "\n",
    "    filename_aligned = procDir +'refpost2pre_xyz5um.nrrd'\n",
    "\n",
    "    args = binPath + 'antsRegistration.exe '  + \\\n",
    "            ' --float 0 ' + \\\n",
    "            ' --dimensionality 3 ' + \\\n",
    "            ' --interpolation BSpline ' + \\\n",
    "            ' --use-histogram-matching 1 ' +\\\n",
    "            ' --winsorize-image-intensities [0.005,0.995] ' +\\\n",
    "            ' --output [refpost2pre_xyz5um_,' + filename_aligned + '] ' + \\\n",
    "            ' --initial-moving-transform [' + filename_fixed + ',' + filename_movingNRRD + ',1] ' +\\\n",
    "            ' --transform Rigid[0.1]' +\\\n",
    "            ' --metric MI[' + filename_fixed + ',' + filename_movingNRRD + ',1,32,Regular,1.0]' +\\\n",
    "            ' --convergence [500x250x100,1e-6,10]' +\\\n",
    "            ' --shrink-factors 4x2x1' +\\\n",
    "            ' --smoothing-sigmas 2x1x0vox' +\\\n",
    "            ' --transform Affine[0.1] ' +\\\n",
    "            ' --metric MI[' + filename_fixed + ',' + filename_movingNRRD + ',1,32,Regular,1.0] ' +\\\n",
    "            ' --convergence [500x250x100,1e-6,10] ' +\\\n",
    "            ' --shrink-factors 4x2x1 ' +\\\n",
    "            ' --smoothing-sigmas 2x1x0vox' +\\\n",
    "            ' --transform SyN[0.1,3,0]' +\\\n",
    "            ' --metric CC[' + filename_fixed + ',' + filename_movingNRRD + ',1,4] ' +\\\n",
    "            ' --convergence [200x100x50,1e-6,10]' +\\\n",
    "            ' --shrink-factors 3x2x1' +\\\n",
    "            ' --smoothing-sigmas 2x1x0vox'\n",
    "    logStr = subprocess.check_output(args) "
   ]
  },
  {
   "cell_type": "markdown",
   "metadata": {},
   "source": [
    "### Apply warping to Post-dFF activity  and Ref files"
   ]
  },
  {
   "cell_type": "code",
   "execution_count": 29,
   "metadata": {
    "collapsed": false
   },
   "outputs": [
    {
     "name": "stdout",
     "output_type": "stream",
     "text": [
      "1 of 3\n",
      "2 of 3\n",
      "3 of 3\n"
     ]
    }
   ],
   "source": [
    "for i_exp in range(1,len(procDirs),2):\n",
    "    procDir = procDirs[i_exp]\n",
    "    print str(1+ (i_exp-1)/2) + ' of ' + str(len(procDirs)/2)    \n",
    "    os.chdir(procDir)\n",
    "    \n",
    "    title = os.path.basename(os.path.split(os.path.split(procDir)[0])[0])\n",
    "\n",
    "    # pre- to -post\n",
    "    transform1 = procDir + 'refpost2pre_xyz5um_1Warp.nii.gz'\n",
    "    transform0 = procDir + 'refpost2pre_xyz5um_0GenericAffine.mat'\n",
    "\n",
    "    # Sub-sampled dFF activity file warping\n",
    "    filename_fixed = procDirs[i_exp - 1] + 'ref_xyz5um.nrrd' #pre-ablation file, fixed (target)\n",
    "    filename_moving = procDir  + title + '_meanActivity' + signalType + '_xyz5um.nrrd'\n",
    "    filename_warped = procDir + title + '_meanActivity' + signalType + '_xyz5um_warp2pre.nrrd'\n",
    "    \n",
    "    argsTransform = binPath + 'antsApplyTransforms.exe' + \\\n",
    "                    ' --dimensionality 3 ' + \\\n",
    "                    ' --input ' + filename_moving + \\\n",
    "            ' --reference-image ' + filename_fixed + \\\n",
    "            ' --output ' + filename_warped + \\\n",
    "            ' --interpolation Linear ' + \\\n",
    "            ' --transform ' + transform1 + \\\n",
    "            ' --transform ' + transform0 + \\\n",
    "            ' --default-value 0'\n",
    "    logStrTransform = subprocess.check_output(argsTransform)"
   ]
  },
  {
   "cell_type": "markdown",
   "metadata": {},
   "source": [
    "### Subtract activity pre- (warped)post "
   ]
  },
  {
   "cell_type": "code",
   "execution_count": 31,
   "metadata": {
    "collapsed": false
   },
   "outputs": [],
   "source": [
    "for i_exp in range(1,len(procDirs),2):\n",
    "    procDir = procDirs[i_exp]\n",
    "    title = os.path.basename(os.path.split(os.path.split(procDir)[0])[0])\n",
    "    \n",
    "    stack_pre, options = nrrd.read(procDirs[i_exp - 1] + title + '_meanActivity'+signalType+'_xyz5um.nrrd')\n",
    "    stack_post, options = nrrd.read(procDir + title + '_meanActivity' + signalType + '_xyz5um_warp2pre.nrrd')\n",
    "    \n",
    "    stackDiff = stack_pre.astype('float32') - stack_post.astype('float32') \n",
    "    \n",
    "    nrrd.write(procDir  + title + '_'+signalType+'_pre-post_warp_xyz5um.nrrd',stackDiff,options)"
   ]
  },
  {
   "cell_type": "markdown",
   "metadata": {},
   "source": [
    "### Align reference pre-ablation files to Zbrain"
   ]
  },
  {
   "cell_type": "code",
   "execution_count": 32,
   "metadata": {
    "collapsed": false
   },
   "outputs": [
    {
     "name": "stdout",
     "output_type": "stream",
     "text": [
      "1 of 3\n",
      "2 of 3\n",
      "3 of 3\n",
      "Wall time: 21min 12s\n"
     ]
    }
   ],
   "source": [
    "%%time\n",
    "if h2b:\n",
    "    filename_fixed = pathZbrain_H2B\n",
    "else: \n",
    "    filename_fixed = pathZbrain_Cyto\n",
    "    \n",
    "for i_exp in range(1,len(procDirs),2):\n",
    "    procDir = procDirs[i_exp - 1]\n",
    "    print str(1+ (i_exp-1)/2) + ' of ' + str(len(procDirs)/2)     \n",
    "    os.chdir(procDir)\n",
    "\n",
    "    filename_movingNRRD = procDir + 'ref_xyz5um.nrrd' #ref file in pre-ablation\n",
    "\n",
    "    filename_aligned = procDir + 'ref_2ZBrainDownsampled.nrrd'\n",
    "\n",
    "    args = binPath + 'antsRegistration.exe '  + \\\n",
    "            ' --float 0 ' + \\\n",
    "            ' --dimensionality 3 ' + \\\n",
    "            ' --interpolation BSpline ' + \\\n",
    "            ' --use-histogram-matching 1 ' +\\\n",
    "            ' --winsorize-image-intensities [0.005,0.995] ' +\\\n",
    "            ' --output [ref_pre_2ZBrainDownsampled_,' + filename_aligned + '] ' + \\\n",
    "            ' --initial-moving-transform [' + filename_fixed + ',' + filename_movingNRRD + ',1] ' +\\\n",
    "            ' --transform Rigid[0.1]' +\\\n",
    "            ' --metric MI[' + filename_fixed + ',' + filename_movingNRRD + ',1,32,Regular,1.0]' +\\\n",
    "            ' --convergence [500x250x100,1e-6,10]' +\\\n",
    "            ' --shrink-factors 4x2x1' +\\\n",
    "            ' --smoothing-sigmas 2x1x0vox' +\\\n",
    "            ' --transform Affine[0.1] ' +\\\n",
    "            ' --metric MI[' + filename_fixed + ',' + filename_movingNRRD + ',1,32,Regular,1.0] ' +\\\n",
    "            ' --convergence [500x250x100,1e-6,10] ' +\\\n",
    "            ' --shrink-factors 4x2x1 ' +\\\n",
    "            ' --smoothing-sigmas 2x1x0vox' +\\\n",
    "            ' --transform SyN[0.1,3,0]' +\\\n",
    "            ' --metric MI[' + filename_fixed + ',' + filename_movingNRRD + ',1,32,Regular,1.0] ' +\\\n",
    "            ' --convergence [200x100x50,1e-6,10]' +\\\n",
    "            ' --shrink-factors 4x2x1' +\\\n",
    "            ' --smoothing-sigmas 2x1x0vox'\n",
    "    logStr = subprocess.check_output(args)    "
   ]
  },
  {
   "cell_type": "markdown",
   "metadata": {},
   "source": [
    "### Apply warping to Pre-Post dFF files to align with Z-brain"
   ]
  },
  {
   "cell_type": "code",
   "execution_count": 33,
   "metadata": {
    "collapsed": false
   },
   "outputs": [
    {
     "name": "stdout",
     "output_type": "stream",
     "text": [
      "1 of 3\n",
      "2 of 3\n",
      "3 of 3\n"
     ]
    }
   ],
   "source": [
    "if h2b:\n",
    "    filename_fixed = pathZbrain_H2B\n",
    "else: \n",
    "    filename_fixed = pathZbrain_Cyto\n",
    "    \n",
    "for i_exp in range(1,len(procDirs),2):\n",
    "    procDir = procDirs[i_exp]\n",
    "    print str(1+ (i_exp-1)/2) + ' of ' + str(len(procDirs)/2)    \n",
    "    os.chdir(procDir)\n",
    "    \n",
    "    title = os.path.basename(os.path.split(os.path.split(procDir)[0])[0])\n",
    "\n",
    "    # pre- to Zbrain\n",
    "    transform1 = procDirs[i_exp - 1] + 'ref_pre_2ZBrainDownsampled_1Warp.nii.gz'\n",
    "    transform0 = procDirs[i_exp - 1] + 'ref_pre_2ZBrainDownsampled_0GenericAffine.mat'\n",
    "\n",
    "    filename_moving = procDir  + title + '_'+signalType+'_pre-post_warp_xyz5um.nrrd'\n",
    "    filename_warped = procDir + title + '_'+signalType+'_pre-post_xyz5um_warp2Zbrain.nrrd'\n",
    "\n",
    "    argsTransform = binPath + 'antsApplyTransforms.exe' + \\\n",
    "                    ' --dimensionality 3 ' + \\\n",
    "                    ' --input ' + filename_moving + \\\n",
    "            ' --reference-image ' + filename_fixed + \\\n",
    "            ' --output ' + filename_warped + \\\n",
    "            ' --interpolation Linear ' + \\\n",
    "            ' --transform ' + transform1 + \\\n",
    "            ' --transform ' + transform0 + \\\n",
    "            ' --default-value 0'\n",
    "    logStrTransform = subprocess.check_output(argsTransform)"
   ]
  },
  {
   "cell_type": "markdown",
   "metadata": {},
   "source": [
    "The resulting NRRD files are dFF activity files (pre- minus post- change in dFF), aligned with the reference Z-brain\n",
    "* `2016-10-18fish1_Fstim_pre-post_xyz5um_warp2Zbrain.nrrd`\n",
    "* `2016-10-18fish3_Fstim_pre-post_xyz5um_warp2Zbrain.nrrd`\n",
    "* `2016-10-24fish1_Fstim_pre-post_xyz5um_warp2Zbrain.nrrd`\n"
   ]
  },
  {
   "cell_type": "markdown",
   "metadata": {},
   "source": [
    "The transformation files `ref_pre_2ZBrainDownsampled_1Warp.nii.gz` and `ref_pre_2ZBrainDownsampled_0GenericAffine.mat` can be directly applied to align full-res. brains to full-res. reference Z-brain (not shown)."
   ]
  },
  {
   "cell_type": "code",
   "execution_count": null,
   "metadata": {
    "collapsed": true
   },
   "outputs": [],
   "source": []
  }
 ],
 "metadata": {
  "anaconda-cloud": {},
  "kernelspec": {
   "display_name": "Python [default]",
   "language": "python",
   "name": "python2"
  },
  "language_info": {
   "codemirror_mode": {
    "name": "ipython",
    "version": 2
   },
   "file_extension": ".py",
   "mimetype": "text/x-python",
   "name": "python",
   "nbconvert_exporter": "python",
   "pygments_lexer": "ipython2",
   "version": "2.7.12"
  }
 },
 "nbformat": 4,
 "nbformat_minor": 0
}
